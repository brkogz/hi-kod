{
 "cells": [
  {
   "cell_type": "code",
   "execution_count": 5,
   "id": "e1cf0b5f-d5aa-4084-8519-fc2c170079f1",
   "metadata": {
    "tags": []
   },
   "outputs": [
    {
     "name": "stdin",
     "output_type": "stream",
     "text": [
      "doğum yılınızı giriniz: 2002\n"
     ]
    },
    {
     "name": "stdout",
     "output_type": "stream",
     "text": [
      "yasiniz:22\n"
     ]
    }
   ],
   "source": [
    "def yas(dogum_yili):\n",
    "    return 2024 - dogum_yili\n",
    "dogum = input(\"doğum yılınızı giriniz:\")\n",
    "print(\"yasiniz:{}\".format(yas(int(dogum))))"
   ]
  },
  {
   "cell_type": "code",
   "execution_count": null,
   "id": "60371ad5-0325-43b5-9d66-699d639fb0a5",
   "metadata": {},
   "outputs": [],
   "source": []
  }
 ],
 "metadata": {
  "kernelspec": {
   "display_name": "Python 3 (ipykernel)",
   "language": "python",
   "name": "python3"
  },
  "language_info": {
   "codemirror_mode": {
    "name": "ipython",
    "version": 3
   },
   "file_extension": ".py",
   "mimetype": "text/x-python",
   "name": "python",
   "nbconvert_exporter": "python",
   "pygments_lexer": "ipython3",
   "version": "3.11.5"
  }
 },
 "nbformat": 4,
 "nbformat_minor": 5
}
