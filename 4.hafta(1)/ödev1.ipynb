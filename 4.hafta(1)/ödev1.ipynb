{
 "cells": [
  {
   "cell_type": "code",
   "execution_count": 7,
   "id": "15203b81-6364-48cb-be11-f2d73bf506c2",
   "metadata": {
    "tags": []
   },
   "outputs": [
    {
     "name": "stdin",
     "output_type": "stream",
     "text": [
      "pi değeri: 3\n",
      "yaricap değeri: 2\n"
     ]
    },
    {
     "name": "stdout",
     "output_type": "stream",
     "text": [
      "12.0\n"
     ]
    }
   ],
   "source": [
    "pi = input(\"pi değeri:\")\n",
    "yaricap = input(\"yaricap değeri:\")\n",
    "\n",
    "def alan(pi,yaricap):\n",
    "    return pi*yaricap*yaricap\n",
    "    \n",
    "print(alan(float(pi),float(yaricap)))"
   ]
  },
  {
   "cell_type": "code",
   "execution_count": null,
   "id": "8b4548ac-a7dc-4845-8398-6fcccee6ca95",
   "metadata": {},
   "outputs": [],
   "source": []
  }
 ],
 "metadata": {
  "kernelspec": {
   "display_name": "Python 3 (ipykernel)",
   "language": "python",
   "name": "python3"
  },
  "language_info": {
   "codemirror_mode": {
    "name": "ipython",
    "version": 3
   },
   "file_extension": ".py",
   "mimetype": "text/x-python",
   "name": "python",
   "nbconvert_exporter": "python",
   "pygments_lexer": "ipython3",
   "version": "3.11.5"
  }
 },
 "nbformat": 4,
 "nbformat_minor": 5
}
