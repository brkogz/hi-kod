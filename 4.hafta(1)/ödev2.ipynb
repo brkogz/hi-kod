{
 "cells": [
  {
   "cell_type": "code",
   "execution_count": 25,
   "id": "364bb1fc-fda8-492d-9f30-1c58bb3c7d2a",
   "metadata": {
    "tags": []
   },
   "outputs": [
    {
     "name": "stdin",
     "output_type": "stream",
     "text": [
      "sayi girin: 3\n"
     ]
    },
    {
     "name": "stdout",
     "output_type": "stream",
     "text": [
      "girdiğiniz sayının faktoriyeli 6 dir.\n"
     ]
    }
   ],
   "source": [
    "def faktoriyel(sayi):\n",
    "    faktoriyel = 1\n",
    "    while(sayi != 1):\n",
    "        faktoriyel *= sayi\n",
    "        sayi -=1\n",
    "    return faktoriyel\n",
    "sayi= input(\"sayi girin:\")\n",
    "print(\"girdiğiniz sayının faktoriyeli {} dir.\".format(faktoriyel(int(sayi))))\n",
    "#0! ve negatif durumlar ödevde belirtilmediği için eklemedim."
   ]
  },
  {
   "cell_type": "code",
   "execution_count": null,
   "id": "ab6648f6-8182-4d0b-975a-622b4bea9b40",
   "metadata": {},
   "outputs": [],
   "source": []
  }
 ],
 "metadata": {
  "kernelspec": {
   "display_name": "Python 3 (ipykernel)",
   "language": "python",
   "name": "python3"
  },
  "language_info": {
   "codemirror_mode": {
    "name": "ipython",
    "version": 3
   },
   "file_extension": ".py",
   "mimetype": "text/x-python",
   "name": "python",
   "nbconvert_exporter": "python",
   "pygments_lexer": "ipython3",
   "version": "3.11.5"
  }
 },
 "nbformat": 4,
 "nbformat_minor": 5
}
