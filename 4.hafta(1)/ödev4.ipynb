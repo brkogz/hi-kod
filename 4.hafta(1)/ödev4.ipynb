{
 "cells": [
  {
   "cell_type": "code",
   "execution_count": 25,
   "id": "59e99b19-3fc8-4be4-b182-cea4d1167a76",
   "metadata": {
    "tags": []
   },
   "outputs": [
    {
     "name": "stdin",
     "output_type": "stream",
     "text": [
      "isminiz: berk\n",
      "doğum yılınız 2002\n"
     ]
    },
    {
     "name": "stdout",
     "output_type": "stream",
     "text": [
      "berk emekliliğine 43 kaldı.\n"
     ]
    }
   ],
   "source": [
    "def yas(dogum_yili):\n",
    "    return 2024 - dogum_yili\n",
    "\n",
    "def emeklilik(isim,dogum_yili):\n",
    "    if yas(dogum_yili) <= 65:\n",
    "        print(\"{} emekliliğine {} kaldı.\".format(isim,65 - yas(dogum_yili)))\n",
    "    else:\n",
    "        print(\"Emekli oldunuz\")\n",
    "\n",
    "isim = input(\"isminiz:\")\n",
    "dogum_yili = input(\"doğum yılınız\")\n",
    "\n",
    "emeklilik(isim,int(dogum_yili))"
   ]
  },
  {
   "cell_type": "code",
   "execution_count": null,
   "id": "a30f4098-e53a-4910-af9b-027cf78a0d32",
   "metadata": {},
   "outputs": [],
   "source": []
  }
 ],
 "metadata": {
  "kernelspec": {
   "display_name": "Python 3 (ipykernel)",
   "language": "python",
   "name": "python3"
  },
  "language_info": {
   "codemirror_mode": {
    "name": "ipython",
    "version": 3
   },
   "file_extension": ".py",
   "mimetype": "text/x-python",
   "name": "python",
   "nbconvert_exporter": "python",
   "pygments_lexer": "ipython3",
   "version": "3.11.5"
  }
 },
 "nbformat": 4,
 "nbformat_minor": 5
}
