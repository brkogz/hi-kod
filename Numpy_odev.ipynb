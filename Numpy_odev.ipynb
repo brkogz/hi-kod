{
 "cells": [
  {
   "cell_type": "markdown",
   "id": "a0f6364d",
   "metadata": {},
   "source": [
    "##### 1.Sayılardan oluşan bir boyutlu array oluşturun. Arrayi oluştururken sayıların veri tipini integer olarak belirtelim.\n",
    "\n",
    "Oluşturulan arrayin boyut, eleman sayısı bilgilerine bakalım."
   ]
  },
  {
   "cell_type": "code",
   "execution_count": 84,
   "id": "c16c30a6",
   "metadata": {
    "tags": []
   },
   "outputs": [
    {
     "name": "stdout",
     "output_type": "stream",
     "text": [
      "[5 9 5 3 1 2 8 1 0 8]\n",
      "1\n",
      "10\n",
      "int32\n"
     ]
    }
   ],
   "source": [
    "import numpy as np\n",
    "dizi = np.random.randint(10, size = 10)\n",
    "print(dizi)\n",
    "print((dizi.ndim))\n",
    "print((dizi.size))\n",
    "print((dizi.dtype))"
   ]
  },
  {
   "cell_type": "markdown",
   "id": "1681f851",
   "metadata": {
    "tags": []
   },
   "source": [
    "##### 2. Aşağıda verilen iki boyutlu ve üç boyutlu arrayi oluşturalım. Bu arraylerin boyut, eleman sayısı, satır, sütun bilgilerine ulaşalım. \n",
    "\n",
    "İki boyutlu array:\n",
    "[[1,2,6,7],\n",
    " [4,3,9,5]]\n",
    "\n",
    "Üç boyutlu array:\n",
    "[[[7,5,14],[21,8,11]],\n",
    " [[8,6,20],[14,3,9]]]\n",
    "\n",
    " "
   ]
  },
  {
   "cell_type": "code",
   "execution_count": 108,
   "id": "e3a138ed",
   "metadata": {
    "tags": []
   },
   "outputs": [
    {
     "name": "stdout",
     "output_type": "stream",
     "text": [
      "2 3\n",
      "satır ve sütün sayıları sırayla 2 4 2 3\n",
      "8 12\n"
     ]
    }
   ],
   "source": [
    "array1= np.array([[1,2,6,7], [4,3,9,5]])\n",
    "array2= np.array([[[7,5,14],[21,8,11]], [[8,6,20],[14,3,9]]])\n",
    "print(array1.ndim, array2.ndim)\n",
    "print(\"satır ve sütün sayıları sırayla\" ,array1.shape[0],array1.shape[1],array2.shape[1],array2.shape[2])\n",
    "print(array1.size, array2.size)"
   ]
  },
  {
   "cell_type": "markdown",
   "id": "b45192b0",
   "metadata": {},
   "source": [
    "##### 3. İstenilen elamanlara ulaşmak için arrayler üzerinde indexleme işlemi yapalım"
   ]
  },
  {
   "cell_type": "code",
   "execution_count": 110,
   "id": "563f9992",
   "metadata": {
    "tags": []
   },
   "outputs": [
    {
     "data": {
      "text/plain": [
       "2"
      ]
     },
     "execution_count": 110,
     "metadata": {},
     "output_type": "execute_result"
    }
   ],
   "source": [
    "array1[0,1]"
   ]
  },
  {
   "cell_type": "code",
   "execution_count": 112,
   "id": "fd0a0be4",
   "metadata": {
    "tags": []
   },
   "outputs": [
    {
     "data": {
      "text/plain": [
       "7"
      ]
     },
     "execution_count": 112,
     "metadata": {},
     "output_type": "execute_result"
    }
   ],
   "source": [
    "array1[0,3]"
   ]
  },
  {
   "cell_type": "code",
   "execution_count": 130,
   "id": "0c2b1884",
   "metadata": {
    "tags": []
   },
   "outputs": [
    {
     "data": {
      "text/plain": [
       "9"
      ]
     },
     "execution_count": 130,
     "metadata": {},
     "output_type": "execute_result"
    }
   ],
   "source": [
    "array2[1,1,2]"
   ]
  },
  {
   "cell_type": "code",
   "execution_count": 162,
   "id": "0dc07d00",
   "metadata": {
    "tags": []
   },
   "outputs": [
    {
     "data": {
      "text/plain": [
       "5"
      ]
     },
     "execution_count": 162,
     "metadata": {},
     "output_type": "execute_result"
    }
   ],
   "source": [
    "array2[0,0,1]"
   ]
  },
  {
   "cell_type": "markdown",
   "id": "12198bc9",
   "metadata": {},
   "source": [
    "##### 4. Arrayler üzerinde slicing işlemi uygulayalım."
   ]
  },
  {
   "cell_type": "code",
   "execution_count": 187,
   "id": "9d066ba1",
   "metadata": {
    "tags": []
   },
   "outputs": [
    {
     "data": {
      "text/plain": [
       "array([2, 6])"
      ]
     },
     "execution_count": 187,
     "metadata": {},
     "output_type": "execute_result"
    }
   ],
   "source": [
    "array1[0,1:3]"
   ]
  },
  {
   "cell_type": "code",
   "execution_count": 191,
   "id": "e020f980",
   "metadata": {
    "tags": []
   },
   "outputs": [
    {
     "data": {
      "text/plain": [
       "array([3, 9, 5])"
      ]
     },
     "execution_count": 191,
     "metadata": {},
     "output_type": "execute_result"
    }
   ],
   "source": [
    "array1[1,1:4]"
   ]
  },
  {
   "cell_type": "code",
   "execution_count": 195,
   "id": "891bed31",
   "metadata": {
    "tags": []
   },
   "outputs": [
    {
     "data": {
      "text/plain": [
       "array([21,  8, 11])"
      ]
     },
     "execution_count": 195,
     "metadata": {},
     "output_type": "execute_result"
    }
   ],
   "source": [
    "array2[0, 1, :]"
   ]
  },
  {
   "cell_type": "code",
   "execution_count": 197,
   "id": "bcbf5f17",
   "metadata": {
    "tags": []
   },
   "outputs": [
    {
     "data": {
      "text/plain": [
       "array([ 6, 20])"
      ]
     },
     "execution_count": 197,
     "metadata": {},
     "output_type": "execute_result"
    }
   ],
   "source": [
    "array2[1, 0, 1:3]"
   ]
  },
  {
   "cell_type": "markdown",
   "id": "66d2aab8",
   "metadata": {},
   "source": [
    "##### 5. 5 satır 3 sütunluk sıfırlardan ve birlerden oluşan iki tane iki boyutlu array oluşturalım. Bu arrayleri satır ve sütun bazında birleştirelim."
   ]
  },
  {
   "cell_type": "code",
   "execution_count": 233,
   "id": "99a6ed29",
   "metadata": {
    "tags": []
   },
   "outputs": [
    {
     "data": {
      "text/plain": [
       "array([[0., 0., 0.],\n",
       "       [0., 0., 0.],\n",
       "       [0., 0., 0.],\n",
       "       [0., 0., 0.],\n",
       "       [0., 0., 0.],\n",
       "       [1., 1., 1.],\n",
       "       [1., 1., 1.],\n",
       "       [1., 1., 1.],\n",
       "       [1., 1., 1.],\n",
       "       [1., 1., 1.]])"
      ]
     },
     "execution_count": 233,
     "metadata": {},
     "output_type": "execute_result"
    }
   ],
   "source": [
    "a = np.zeros((5,3))\n",
    "b = np.ones((5,3))\n",
    "dizi = np.concatenate([a,b])\n",
    "dizi"
   ]
  },
  {
   "cell_type": "code",
   "execution_count": null,
   "id": "8164ed2d-bf22-4f7c-9df5-121db12a6217",
   "metadata": {},
   "outputs": [],
   "source": []
  }
 ],
 "metadata": {
  "kernelspec": {
   "display_name": "Python 3 (ipykernel)",
   "language": "python",
   "name": "python3"
  },
  "language_info": {
   "codemirror_mode": {
    "name": "ipython",
    "version": 3
   },
   "file_extension": ".py",
   "mimetype": "text/x-python",
   "name": "python",
   "nbconvert_exporter": "python",
   "pygments_lexer": "ipython3",
   "version": "3.11.5"
  }
 },
 "nbformat": 4,
 "nbformat_minor": 5
}
