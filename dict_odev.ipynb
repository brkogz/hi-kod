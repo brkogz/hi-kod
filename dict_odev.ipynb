{
 "cells": [
  {
   "cell_type": "markdown",
   "metadata": {},
   "source": [
    "### Ödev 1\n",
    "\n",
    "Bir sözlük oluşturulur ve bu sözlükte öğrencilerin isimleri ve Matematik, Fizik, Kimya notları tutulur. Kullanıcıdan isim ve ders ismi(Matematik, Fizik, Kimya) istenir ve bu bilgilere göre çıktı verilir."
   ]
  },
  {
   "cell_type": "code",
   "execution_count": 149,
   "metadata": {
    "tags": []
   },
   "outputs": [
    {
     "data": {
      "text/plain": [
       "{'Berk': {'Matematik': 95, 'Fizik': 88, 'Kimya': 100},\n",
       " 'Şevval': {'Matematik': 88, 'Fizik': 100, 'Kimya': 95},\n",
       " 'Muhittin': {'Matematik': 75, 'Fizik': 90, 'Kimya': 90}}"
      ]
     },
     "execution_count": 149,
     "metadata": {},
     "output_type": "execute_result"
    }
   ],
   "source": [
    "sözlük = {\"Berk\":{\"Matematik\":95, \"Fizik\":88, \"Kimya\":100},\n",
    "          \"Şevval\":{\"Matematik\":88, \"Fizik\":100, \"Kimya\":95},\n",
    "          \"Muhittin\":{\"Matematik\":75, \"Fizik\":90, \"Kimya\":90}}\n",
    "sözlük"
   ]
  },
  {
   "cell_type": "markdown",
   "metadata": {},
   "source": [
    "### Ödev 2\n",
    "\n",
    "Sözlük üzerinde değerleri değiştirme, yeni değer ekleme, kullanıcıya ulaşmak istediği bilgileri sorma gibi uygulamalar yapın."
   ]
  },
  {
   "cell_type": "code",
   "execution_count": 163,
   "metadata": {
    "tags": []
   },
   "outputs": [
    {
     "name": "stdin",
     "output_type": "stream",
     "text": [
      "Hangi öğrenciyi görüntülemek istiyorsunuz Şevval\n"
     ]
    },
    {
     "name": "stdout",
     "output_type": "stream",
     "text": [
      "{'Matematik': 88, 'Fizik': 100, 'Kimya': 95, 'biyoloji': 0}\n"
     ]
    },
    {
     "name": "stdin",
     "output_type": "stream",
     "text": [
      "Hangi not üzerinde değişiklik yapmak istiyorsunuz biyoloji\n"
     ]
    },
    {
     "name": "stdout",
     "output_type": "stream",
     "text": [
      "ders aranıyor..\n",
      "ders aranıyor..\n",
      "ders aranıyor..\n"
     ]
    },
    {
     "name": "stdin",
     "output_type": "stream",
     "text": [
      "biyoloji dersi için yeni notu giriniz 100\n"
     ]
    }
   ],
   "source": [
    "sözlüki = input(\"Hangi öğrenciyi görüntülemek istiyorsunuz\")\n",
    "for i in sözlük:\n",
    "    if ogrenci == i:\n",
    "        print(sözlük[i])\n",
    "        ders = input(\"Hangi not üzerinde değişiklik yapmak istiyorsunuz\")\n",
    "        arama = len(sözlük[i])\n",
    "        for j in sözlük[i]:\n",
    "    \n",
    "            if j == ders:\n",
    "                yeni_not = input(\"{} dersi için yeni notu giriniz\".format(ders))\n",
    "                sözlük[i][ders] = yeni_not\n",
    "                break\n",
    "            else:\n",
    "                print(\"ders aranıyor..\")\n",
    "                if arama != 1:\n",
    "                        arama -=1\n",
    "                else:\n",
    "                        karar = input(\"boyle bir ders yok, eklemek isterseniz 'e' tuşuna istemiyorsanız 'h' tuşuna basınız\")\n",
    "                        if karar == \"e\":\n",
    "                            not_giris = input(\"{} dersininin notunu giriniz\".format(ders))\n",
    "                            sözlük[ogrenci][ders] = not_giris\n",
    "                            break\n",
    "                        else:\n",
    "                            print(\"program sonlandırılıyor\")\n",
    "                                      \n",
    "                        \n",
    "                    \n",
    "                \n",
    "                        \n",
    "            "
   ]
  },
  {
   "cell_type": "code",
   "execution_count": 165,
   "metadata": {
    "tags": []
   },
   "outputs": [
    {
     "data": {
      "text/plain": [
       "{'Berk': {'Matematik': 95, 'Fizik': 88, 'Kimya': 100, 'tarih': '100'},\n",
       " 'Şevval': {'Matematik': 88, 'Fizik': 100, 'Kimya': 95, 'biyoloji': '100'},\n",
       " 'Muhittin': {'Matematik': 75, 'Fizik': 90, 'Kimya': 90}}"
      ]
     },
     "execution_count": 165,
     "metadata": {},
     "output_type": "execute_result"
    }
   ],
   "source": [
    "sözlük"
   ]
  },
  {
   "cell_type": "code",
   "execution_count": null,
   "metadata": {},
   "outputs": [],
   "source": []
  }
 ],
 "metadata": {
  "kernelspec": {
   "display_name": "Python 3 (ipykernel)",
   "language": "python",
   "name": "python3"
  },
  "language_info": {
   "codemirror_mode": {
    "name": "ipython",
    "version": 3
   },
   "file_extension": ".py",
   "mimetype": "text/x-python",
   "name": "python",
   "nbconvert_exporter": "python",
   "pygments_lexer": "ipython3",
   "version": "3.11.5"
  }
 },
 "nbformat": 4,
 "nbformat_minor": 4
}
