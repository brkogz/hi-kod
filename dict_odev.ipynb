{
 "cells": [
  {
   "cell_type": "markdown",
   "metadata": {},
   "source": [
    "### Ödev 1\n",
    "\n",
    "Bir sözlük oluşturulur ve bu sözlükte öğrencilerin isimleri ve Matematik, Fizik, Kimya notları tutulur. Kullanıcıdan isim ve ders ismi(Matematik, Fizik, Kimya) istenir ve bu bilgilere göre çıktı verilir."
   ]
  },
  {
   "cell_type": "code",
   "execution_count": 287,
   "metadata": {
    "tags": []
   },
   "outputs": [
    {
     "data": {
      "text/plain": [
       "{'Berk': {'Matematik': 95, 'Fizik': 88, 'Kimya': 100},\n",
       " 'Şevval': {'Matematik': 88, 'Fizik': 100, 'Kimya': 95},\n",
       " 'Muhittin': {'Matematik': 75, 'Fizik': 90, 'Kimya': 90}}"
      ]
     },
     "execution_count": 287,
     "metadata": {},
     "output_type": "execute_result"
    }
   ],
   "source": [
    "sözlük = {\"Berk\":{\"Matematik\":95, \"Fizik\":88, \"Kimya\":100},\n",
    "          \"Şevval\":{\"Matematik\":88, \"Fizik\":100, \"Kimya\":95},\n",
    "          \"Muhittin\":{\"Matematik\":75, \"Fizik\":90, \"Kimya\":90}}\n",
    "sözlük"
   ]
  },
  {
   "cell_type": "markdown",
   "metadata": {},
   "source": [
    "### Ödev 2\n",
    "\n",
    "Sözlük üzerinde değerleri değiştirme, yeni değer ekleme, kullanıcıya ulaşmak istediği bilgileri sorma gibi uygulamalar yapın."
   ]
  },
  {
   "cell_type": "code",
   "execution_count": 293,
   "metadata": {
    "tags": []
   },
   "outputs": [
    {
     "name": "stdin",
     "output_type": "stream",
     "text": [
      "Hangi öğrenciyi görüntülemek istiyorsunuz Ahmet\n"
     ]
    },
    {
     "name": "stdout",
     "output_type": "stream",
     "text": [
      "öğrenci aranıyor..\n",
      "öğrenci aranıyor..\n",
      "öğrenci aranıyor..\n"
     ]
    },
    {
     "name": "stdin",
     "output_type": "stream",
     "text": [
      "boyle bir öğrenci yok, eklemek isterseniz 'e' tuşuna istemiyorsanız 'h' tuşuna basınız e\n"
     ]
    },
    {
     "name": "stdout",
     "output_type": "stream",
     "text": [
      "Ahmet ogrencisi eklendi\n"
     ]
    }
   ],
   "source": [
    "ogrenci = input(\"Hangi öğrenciyi görüntülemek istiyorsunuz\")\n",
    "ogrenci_arama = len(sözlük)\n",
    "\n",
    "for i in sözlük:\n",
    "    \n",
    "    if ogrenci == i:\n",
    "        print(sözlük[i])\n",
    "        ders = input(\"Hangi ders üzerinde değişiklik yapmak istiyorsunuz\")\n",
    "        arama = len(sözlük[i])\n",
    "        for j in sözlük[i]:\n",
    "    \n",
    "            if j == ders:\n",
    "                yeni_not = input(\"{} dersi için yeni notu giriniz\".format(ders))\n",
    "                sözlük[i][ders] = yeni_not\n",
    "                break\n",
    "            else:\n",
    "                print(\"ders aranıyor..\")\n",
    "                if arama != 1:\n",
    "                        arama -=1\n",
    "                else:\n",
    "                        karar = input(\"boyle bir ders yok, eklemek isterseniz 'e' tuşuna istemiyorsanız 'h' tuşuna basınız\")\n",
    "                        if karar == \"e\":\n",
    "                            not_giris = input(\"{} dersininin notunu giriniz\".format(ders))\n",
    "                            sözlük[ogrenci][ders] = not_giris\n",
    "                            break\n",
    "                        else:\n",
    "                            print(\"program sonlandırılıyor\")\n",
    "        break\n",
    "  \n",
    "            \n",
    "        \n",
    "                \n",
    "    else:\n",
    "        print(\"öğrenci aranıyor..\")\n",
    "        if ogrenci_arama != 1:\n",
    "            ogrenci_arama -=1\n",
    "            \n",
    "        else:\n",
    "            karar = input(\"boyle bir öğrenci yok, eklemek isterseniz 'e' tuşuna istemiyorsanız 'h' tuşuna basınız\")\n",
    "            if karar == \"e\":\n",
    "                print(\"{} ogrencisi eklendi\".format(ogrenci))\n",
    "                sözlük[ogrenci] = {\"Matematik\":\"G\", \"Fizik\":\"G\", \"Kimya\":\"G\"}\n",
    "                break\n",
    "            else:\n",
    "                print(\"program sonlandırılıyor\")\n",
    "                break                          \n",
    "                        \n",
    "                    \n",
    "                \n",
    "                        \n",
    "            "
   ]
  },
  {
   "cell_type": "code",
   "execution_count": 295,
   "metadata": {
    "tags": []
   },
   "outputs": [
    {
     "data": {
      "text/plain": [
       "{'Berk': {'Matematik': 95, 'Fizik': 88, 'Kimya': 100},\n",
       " 'Şevval': {'Matematik': 88, 'Fizik': 100, 'Kimya': 95},\n",
       " 'Muhittin': {'Matematik': 75, 'Fizik': 90, 'Kimya': 90},\n",
       " 'Ahmet': {'Matematik': 'G', 'Fizik': 'G', 'Kimya': 'G'}}"
      ]
     },
     "execution_count": 295,
     "metadata": {},
     "output_type": "execute_result"
    }
   ],
   "source": [
    "sözlük"
   ]
  },
  {
   "cell_type": "code",
   "execution_count": null,
   "metadata": {},
   "outputs": [],
   "source": []
  }
 ],
 "metadata": {
  "kernelspec": {
   "display_name": "Python 3 (ipykernel)",
   "language": "python",
   "name": "python3"
  },
  "language_info": {
   "codemirror_mode": {
    "name": "ipython",
    "version": 3
   },
   "file_extension": ".py",
   "mimetype": "text/x-python",
   "name": "python",
   "nbconvert_exporter": "python",
   "pygments_lexer": "ipython3",
   "version": "3.11.5"
  }
 },
 "nbformat": 4,
 "nbformat_minor": 4
}
