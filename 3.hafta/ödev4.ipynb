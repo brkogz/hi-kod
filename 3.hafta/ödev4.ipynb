{
 "cells": [
  {
   "cell_type": "code",
   "execution_count": 1,
   "id": "56a114ae-04a8-440d-810e-1c9eff6423ed",
   "metadata": {
    "tags": []
   },
   "outputs": [
    {
     "name": "stdin",
     "output_type": "stream",
     "text": [
      "kullanıcı adı: 456\n",
      "şifre(5 ve 10 hane arasında olmak zorunda): 12345\n"
     ]
    },
    {
     "name": "stdout",
     "output_type": "stream",
     "text": [
      "Hesabınız oluşturuldu\n"
     ]
    },
    {
     "name": "stdin",
     "output_type": "stream",
     "text": [
      "kullanıcı adı: 21\n"
     ]
    },
    {
     "name": "stdout",
     "output_type": "stream",
     "text": [
      "boyle bi kullanıcı adı yok, tekrar deneyin!\n"
     ]
    },
    {
     "name": "stdin",
     "output_type": "stream",
     "text": [
      "kullanıcı adı: 456\n",
      "sifrenizi giriniz: 55\n"
     ]
    },
    {
     "name": "stdout",
     "output_type": "stream",
     "text": [
      "Yanlış şifre girildi! Tekrar deneyiniz(Kalan hakkınız:2)\n"
     ]
    },
    {
     "name": "stdin",
     "output_type": "stream",
     "text": [
      "sifrenizi giriniz: 66\n"
     ]
    },
    {
     "name": "stdout",
     "output_type": "stream",
     "text": [
      "Yanlış şifre girildi! Tekrar deneyiniz(Kalan hakkınız:1)\n"
     ]
    },
    {
     "name": "stdin",
     "output_type": "stream",
     "text": [
      "sifrenizi giriniz: 66\n"
     ]
    },
    {
     "name": "stdout",
     "output_type": "stream",
     "text": [
      "Yanlış şifre girildi! Tekrar deneyiniz(Kalan hakkınız:0)\n",
      "program sonlandırılıyor.\n"
     ]
    }
   ],
   "source": [
    "kullanici_adi = input(\"kullanıcı adı:\")\n",
    "while(1):\n",
    "    sifre = input(\"şifre(5 ve 10 hane arasında olmak zorunda):\")\n",
    "    if (len(sifre) >= 5) & (len(sifre) <= 10)  :\n",
    "        print(\"Hesabınız oluşturuldu\")\n",
    "        break\n",
    "    else:\n",
    "        print(\"Lütfen girdiniz şifre 5 haneden az 10 haneden fazla olmasın!\")\n",
    "\n",
    "while(1):\n",
    "    hak = 3\n",
    "    kullanici_adi_giris = input(\"kullanıcı adı:\")\n",
    "    if kullanici_adi != kullanici_adi_giris:\n",
    "        print(\"boyle bi kullanıcı adı yok, tekrar deneyin!\")\n",
    "    else:\n",
    "        while(hak):\n",
    "            sifre_giris = input(\"sifrenizi giriniz:\")\n",
    "            if sifre != sifre_giris:\n",
    "                hak -= 1\n",
    "                print(\"Yanlış şifre girildi! Tekrar deneyiniz(Kalan hakkınız:{})\".format(hak))\n",
    "                \n",
    "            else:\n",
    "                print(\"Giriş yapıldı\")\n",
    "                break\n",
    "        print(\"program sonlandırılıyor.\")\n",
    "        break"
   ]
  },
  {
   "cell_type": "code",
   "execution_count": null,
   "id": "90dc92c5-1265-42db-a703-c29108393489",
   "metadata": {},
   "outputs": [],
   "source": []
  }
 ],
 "metadata": {
  "kernelspec": {
   "display_name": "Python 3 (ipykernel)",
   "language": "python",
   "name": "python3"
  },
  "language_info": {
   "codemirror_mode": {
    "name": "ipython",
    "version": 3
   },
   "file_extension": ".py",
   "mimetype": "text/x-python",
   "name": "python",
   "nbconvert_exporter": "python",
   "pygments_lexer": "ipython3",
   "version": "3.11.5"
  }
 },
 "nbformat": 4,
 "nbformat_minor": 5
}
