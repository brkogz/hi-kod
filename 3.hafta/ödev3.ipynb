{
 "cells": [
  {
   "cell_type": "code",
   "execution_count": 2,
   "id": "3cd68e00-2dbd-4365-8d10-1b56980313ad",
   "metadata": {
    "tags": []
   },
   "outputs": [
    {
     "name": "stdin",
     "output_type": "stream",
     "text": [
      "kullanıcı adı: 123456\n",
      "şifre(5 ve 10 hane arasında olmak zorunda): 425\n"
     ]
    },
    {
     "name": "stdout",
     "output_type": "stream",
     "text": [
      "Lütfen girdiniz şifre 5 haneden az 10 haneden fazla olmasın!\n"
     ]
    },
    {
     "name": "stdin",
     "output_type": "stream",
     "text": [
      "şifre(5 ve 10 hane arasında olmak zorunda): 12345678912554\n"
     ]
    },
    {
     "name": "stdout",
     "output_type": "stream",
     "text": [
      "Lütfen girdiniz şifre 5 haneden az 10 haneden fazla olmasın!\n"
     ]
    },
    {
     "name": "stdin",
     "output_type": "stream",
     "text": [
      "şifre(5 ve 10 hane arasında olmak zorunda): 1234568\n"
     ]
    },
    {
     "name": "stdout",
     "output_type": "stream",
     "text": [
      "Hesabınız oluşturuldu\n"
     ]
    }
   ],
   "source": [
    "kullanici_adi = input(\"kullanıcı adı:\")\n",
    "while(1):\n",
    "    sifre = input(\"şifre(5 ve 10 hane arasında olmak zorunda):\")\n",
    "    if (len(sifre) >= 5) & (len(sifre) <= 10)  :\n",
    "        print(\"Hesabınız oluşturuldu\")\n",
    "        break\n",
    "    else:\n",
    "        print(\"Lütfen girdiniz şifre 5 haneden az 10 haneden fazla olmasın!\")\n",
    "                  \n",
    "                      "
   ]
  },
  {
   "cell_type": "code",
   "execution_count": null,
   "id": "f6de506d-2899-4b03-b3f4-25455d033782",
   "metadata": {},
   "outputs": [],
   "source": []
  }
 ],
 "metadata": {
  "kernelspec": {
   "display_name": "Python 3 (ipykernel)",
   "language": "python",
   "name": "python3"
  },
  "language_info": {
   "codemirror_mode": {
    "name": "ipython",
    "version": 3
   },
   "file_extension": ".py",
   "mimetype": "text/x-python",
   "name": "python",
   "nbconvert_exporter": "python",
   "pygments_lexer": "ipython3",
   "version": "3.11.5"
  }
 },
 "nbformat": 4,
 "nbformat_minor": 5
}
