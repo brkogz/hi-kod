{
 "cells": [
  {
   "cell_type": "code",
   "execution_count": 13,
   "id": "995a0427-2db2-4937-89ba-a62f39a84cfc",
   "metadata": {
    "tags": []
   },
   "outputs": [
    {
     "name": "stdin",
     "output_type": "stream",
     "text": [
      "kullanıcı adı: 1234564\n",
      "şifre(En az 6 hane): 123456\n"
     ]
    },
    {
     "name": "stdout",
     "output_type": "stream",
     "text": [
      "Hesabınız oluşturuldu\n"
     ]
    }
   ],
   "source": [
    "kullanici_adi = input(\"kullanıcı adı:\")\n",
    "while(1):\n",
    "    sifre = input(\"şifre(En az 6 hane):\")\n",
    "    if len(sifre) >= 6:\n",
    "        print(\"Hesabınız oluşturuldu\")\n",
    "        break\n",
    "    else:\n",
    "        print(\"Yeniden deneyin\")\n",
    "                  \n",
    "                      "
   ]
  },
  {
   "cell_type": "code",
   "execution_count": 7,
   "id": "be9328aa-4dbb-496d-a842-4a4ce7753217",
   "metadata": {
    "tags": []
   },
   "outputs": [
    {
     "name": "stdout",
     "output_type": "stream",
     "text": [
      "5\n"
     ]
    }
   ],
   "source": []
  },
  {
   "cell_type": "code",
   "execution_count": null,
   "id": "68e27876-6aea-43df-873b-74705a90e6d2",
   "metadata": {},
   "outputs": [],
   "source": []
  }
 ],
 "metadata": {
  "kernelspec": {
   "display_name": "Python 3 (ipykernel)",
   "language": "python",
   "name": "python3"
  },
  "language_info": {
   "codemirror_mode": {
    "name": "ipython",
    "version": 3
   },
   "file_extension": ".py",
   "mimetype": "text/x-python",
   "name": "python",
   "nbconvert_exporter": "python",
   "pygments_lexer": "ipython3",
   "version": "3.11.5"
  }
 },
 "nbformat": 4,
 "nbformat_minor": 5
}
