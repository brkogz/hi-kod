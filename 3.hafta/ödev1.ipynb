{
 "cells": [
  {
   "cell_type": "code",
   "execution_count": 70,
   "id": "90e3600b-e37c-44ad-8bbd-e754561a5a13",
   "metadata": {
    "tags": []
   },
   "outputs": [
    {
     "name": "stdin",
     "output_type": "stream",
     "text": [
      "Maaşınızı giriniz 10001\n"
     ]
    },
    {
     "name": "stdout",
     "output_type": "stream",
     "text": [
      "9000.9\n"
     ]
    }
   ],
   "source": [
    "maas = input(\"Maaşınızı giriniz\")\n",
    "\n",
    "if int(maas) <= 10000:\n",
    "    yeni_maas = int(maas) - (int(maas)*0.05)\n",
    "    \n",
    "elif (int(maas) <= 25000) & (int(maas) > 10000):\n",
    "    yeni_maas = int(maas) - (int(maas)*0.1)\n",
    "    \n",
    "elif (int(maas) <= 45000) & (int(maas) > 25000):\n",
    "    yeni_maas = int(maas) - (int(maas)*0.25)\n",
    "    \n",
    "else:\n",
    "    yeni_maas = int(maas) - (int(maas)*0.30)\n",
    "    print(30)\n",
    "    \n",
    "print(yeni_maas)"
   ]
  },
  {
   "cell_type": "code",
   "execution_count": null,
   "id": "2a37d2ef-0a87-462a-8b08-a31a361b35ec",
   "metadata": {
    "tags": []
   },
   "outputs": [],
   "source": []
  },
  {
   "cell_type": "code",
   "execution_count": null,
   "id": "e6c4bf4f-9ae5-4022-babc-9ccd346cdc0a",
   "metadata": {},
   "outputs": [],
   "source": []
  }
 ],
 "metadata": {
  "kernelspec": {
   "display_name": "Python 3 (ipykernel)",
   "language": "python",
   "name": "python3"
  },
  "language_info": {
   "codemirror_mode": {
    "name": "ipython",
    "version": 3
   },
   "file_extension": ".py",
   "mimetype": "text/x-python",
   "name": "python",
   "nbconvert_exporter": "python",
   "pygments_lexer": "ipython3",
   "version": "3.11.5"
  }
 },
 "nbformat": 4,
 "nbformat_minor": 5
}
