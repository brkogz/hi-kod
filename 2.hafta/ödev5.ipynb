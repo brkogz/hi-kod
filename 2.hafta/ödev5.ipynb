{
 "cells": [
  {
   "cell_type": "code",
   "execution_count": 5,
   "id": "7d8df5e4-6bff-4684-9641-96b208bb57f5",
   "metadata": {
    "tags": []
   },
   "outputs": [],
   "source": [
    "degisken = \"Hi-Kod Veri Bilimi Atölyesi\"\n",
    "kelimeler = degisken.split()\n",
    "büyüt = degisken.upper()\n",
    "küçüt = degisken.lower()\n",
    "\n"
   ]
  },
  {
   "cell_type": "code",
   "execution_count": 11,
   "id": "b63b52b5-75ad-4f27-8ee1-8632cf5c2291",
   "metadata": {
    "tags": []
   },
   "outputs": [],
   "source": [
    "sayilar = \"0123456789\"\n",
    "çift_sayilar = sayilar[::2]  \n",
    "tek_sayilar = sayilar[1::2]"
   ]
  },
  {
   "cell_type": "code",
   "execution_count": 13,
   "id": "b75a911e-a86a-468b-aee2-6f3ae1ec8999",
   "metadata": {
    "tags": []
   },
   "outputs": [
    {
     "name": "stdout",
     "output_type": "stream",
     "text": [
      "13579\n"
     ]
    }
   ],
   "source": [
    "print(tek_sayilar)"
   ]
  },
  {
   "cell_type": "code",
   "execution_count": 15,
   "id": "c1b84bf5-9d7b-479c-a212-4b5851e7ff7c",
   "metadata": {
    "tags": []
   },
   "outputs": [
    {
     "name": "stdout",
     "output_type": "stream",
     "text": [
      "02468\n"
     ]
    }
   ],
   "source": [
    "print(çift_sayilar)"
   ]
  },
  {
   "cell_type": "code",
   "execution_count": null,
   "id": "9857695b-c2e0-45bf-8536-749954505d82",
   "metadata": {},
   "outputs": [],
   "source": []
  }
 ],
 "metadata": {
  "kernelspec": {
   "display_name": "Python 3 (ipykernel)",
   "language": "python",
   "name": "python3"
  },
  "language_info": {
   "codemirror_mode": {
    "name": "ipython",
    "version": 3
   },
   "file_extension": ".py",
   "mimetype": "text/x-python",
   "name": "python",
   "nbconvert_exporter": "python",
   "pygments_lexer": "ipython3",
   "version": "3.11.5"
  }
 },
 "nbformat": 4,
 "nbformat_minor": 5
}
