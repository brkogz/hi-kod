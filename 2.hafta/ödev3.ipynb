{
 "cells": [
  {
   "cell_type": "code",
   "execution_count": 21,
   "id": "b0fa3ac8-8a2d-4be0-aa1e-2553a38e8f2d",
   "metadata": {
    "tags": []
   },
   "outputs": [
    {
     "name": "stdout",
     "output_type": "stream",
     "text": [
      "birinci değer:\n"
     ]
    },
    {
     "name": "stdin",
     "output_type": "stream",
     "text": [
      "None 6 \n"
     ]
    },
    {
     "name": "stdout",
     "output_type": "stream",
     "text": [
      "ikinci değer:\n"
     ]
    },
    {
     "name": "stdin",
     "output_type": "stream",
     "text": [
      "None 9\n"
     ]
    }
   ],
   "source": [
    "a = float(input(print(\"birinci değer:\")))\n",
    "b = float(input(print(\"ikinci değer:\")))"
   ]
  },
  {
   "cell_type": "code",
   "execution_count": 25,
   "id": "2ce62969-2b2d-4abe-b927-3be89e0c9260",
   "metadata": {
    "tags": []
   },
   "outputs": [
    {
     "name": "stdout",
     "output_type": "stream",
     "text": [
      "toplama= 15.0\n",
      "çıkarma= -3.0\n",
      "çarpma= 54.0\n",
      "bölme= 0.6666666666666666\n"
     ]
    }
   ],
   "source": [
    "print(\"toplama= {}\".format(a+b))\n",
    "print(\"çıkarma= {}\".format(a-b))\n",
    "print(\"çarpma= {}\".format(a*b))\n",
    "print(\"bölme= {}\".format(a/b))"
   ]
  }
 ],
 "metadata": {
  "kernelspec": {
   "display_name": "Python 3 (ipykernel)",
   "language": "python",
   "name": "python3"
  },
  "language_info": {
   "codemirror_mode": {
    "name": "ipython",
    "version": 3
   },
   "file_extension": ".py",
   "mimetype": "text/x-python",
   "name": "python",
   "nbconvert_exporter": "python",
   "pygments_lexer": "ipython3",
   "version": "3.11.5"
  }
 },
 "nbformat": 4,
 "nbformat_minor": 5
}
