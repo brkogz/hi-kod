{
 "cells": [
  {
   "cell_type": "code",
   "execution_count": 1,
   "id": "b394ab9a-faa5-47e7-a25e-742e8a3933d9",
   "metadata": {
    "tags": []
   },
   "outputs": [],
   "source": [
    "int_deger = 38\n",
    "float_deger = 3.8\n",
    "string_deger = '338'"
   ]
  },
  {
   "cell_type": "code",
   "execution_count": 7,
   "id": "4de24a0e-9a5f-4ef0-b6bd-f746058ded4c",
   "metadata": {
    "tags": []
   },
   "outputs": [
    {
     "name": "stdout",
     "output_type": "stream",
     "text": [
      "<class 'int'>\n"
     ]
    }
   ],
   "source": [
    "degistirilmis_int = int(string_deger)\n",
    "print(type(degistirilmis_int))"
   ]
  },
  {
   "cell_type": "code",
   "execution_count": 11,
   "id": "d5a9211f-3c1e-4966-81ee-ce667e6cda8e",
   "metadata": {
    "tags": []
   },
   "outputs": [
    {
     "name": "stdout",
     "output_type": "stream",
     "text": [
      "<class 'float'>\n"
     ]
    }
   ],
   "source": [
    "degistirilmis_float = float(int_deger)\n",
    "print(type(degistirilmis_float))"
   ]
  },
  {
   "cell_type": "code",
   "execution_count": 13,
   "id": "6a8c2e41-a09d-4f2d-aa54-35f2b8478458",
   "metadata": {
    "tags": []
   },
   "outputs": [
    {
     "name": "stdout",
     "output_type": "stream",
     "text": [
      "<class 'str'>\n"
     ]
    }
   ],
   "source": [
    "degistirilmis_string = str(float)\n",
    "print(type(degistirilmis_string))"
   ]
  },
  {
   "cell_type": "code",
   "execution_count": null,
   "id": "5a2f03ea-9367-46a1-8a57-0d85afc8724a",
   "metadata": {},
   "outputs": [],
   "source": []
  }
 ],
 "metadata": {
  "kernelspec": {
   "display_name": "Python 3 (ipykernel)",
   "language": "python",
   "name": "python3"
  },
  "language_info": {
   "codemirror_mode": {
    "name": "ipython",
    "version": 3
   },
   "file_extension": ".py",
   "mimetype": "text/x-python",
   "name": "python",
   "nbconvert_exporter": "python",
   "pygments_lexer": "ipython3",
   "version": "3.11.5"
  }
 },
 "nbformat": 4,
 "nbformat_minor": 5
}
