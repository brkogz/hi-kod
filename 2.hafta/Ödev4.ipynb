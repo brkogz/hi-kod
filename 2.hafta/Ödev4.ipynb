{
 "cells": [
  {
   "cell_type": "code",
   "execution_count": 11,
   "id": "14d59eaf-ef20-4a70-a81b-ce017550151d",
   "metadata": {
    "tags": []
   },
   "outputs": [
    {
     "name": "stdin",
     "output_type": "stream",
     "text": [
      "isim: Berk OĞUZ\n",
      "yaş: 22\n",
      "şehir: Elazığ\n",
      "meslek: Öğrenci\n"
     ]
    }
   ],
   "source": [
    "isim = input(\"isim:\")\n",
    "yas = input(\"yaş:\")\n",
    "sehir = input(\"şehir:\")\n",
    "meslek = input(\"meslek:\")"
   ]
  },
  {
   "cell_type": "code",
   "execution_count": 13,
   "id": "8c42ad86-f6cc-43ea-97e5-90bda983d752",
   "metadata": {
    "tags": []
   },
   "outputs": [
    {
     "name": "stdout",
     "output_type": "stream",
     "text": [
      "Berk OĞUZ 22 Elazığ Öğrenci\n"
     ]
    }
   ],
   "source": [
    "print(isim,yas,sehir,meslek)"
   ]
  },
  {
   "cell_type": "code",
   "execution_count": null,
   "id": "6300bce6-ee8a-4c8d-abc9-c607c38c2636",
   "metadata": {},
   "outputs": [],
   "source": []
  }
 ],
 "metadata": {
  "kernelspec": {
   "display_name": "Python 3 (ipykernel)",
   "language": "python",
   "name": "python3"
  },
  "language_info": {
   "codemirror_mode": {
    "name": "ipython",
    "version": 3
   },
   "file_extension": ".py",
   "mimetype": "text/x-python",
   "name": "python",
   "nbconvert_exporter": "python",
   "pygments_lexer": "ipython3",
   "version": "3.11.5"
  }
 },
 "nbformat": 4,
 "nbformat_minor": 5
}
