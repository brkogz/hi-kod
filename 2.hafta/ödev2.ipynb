{
 "cells": [
  {
   "cell_type": "code",
   "execution_count": 1,
   "id": "184c76dc-c742-4acf-9c73-1b09e06eec8e",
   "metadata": {
    "tags": []
   },
   "outputs": [],
   "source": [
    "ali = 30\n",
    "veli =22\n",
    "musa = 57"
   ]
  },
  {
   "cell_type": "code",
   "execution_count": 5,
   "id": "d2af1e4f-2aed-407d-a5b7-bacc0c46356e",
   "metadata": {
    "tags": []
   },
   "outputs": [
    {
     "name": "stdout",
     "output_type": "stream",
     "text": [
      "musa en yaşlı kişidir.\n"
     ]
    }
   ],
   "source": [
    "if ali > veli:\n",
    "    if ali > musa:\n",
    "        print(\"ali en yaşlı kişidir.\")\n",
    "    else:\n",
    "        print(\"musa en yaşlı kişidir.\")\n",
    "        \n",
    "else:\n",
    "    if veli > musa:\n",
    "        print(\"veli en yaşlı kişidir.\")\n",
    "    else:\n",
    "        print(\"musa en yaşlı kişidir.\")"
   ]
  },
  {
   "cell_type": "code",
   "execution_count": null,
   "id": "bd66c568-b183-4d50-9f3b-5bfb5427629f",
   "metadata": {},
   "outputs": [],
   "source": []
  }
 ],
 "metadata": {
  "kernelspec": {
   "display_name": "Python 3 (ipykernel)",
   "language": "python",
   "name": "python3"
  },
  "language_info": {
   "codemirror_mode": {
    "name": "ipython",
    "version": 3
   },
   "file_extension": ".py",
   "mimetype": "text/x-python",
   "name": "python",
   "nbconvert_exporter": "python",
   "pygments_lexer": "ipython3",
   "version": "3.11.5"
  }
 },
 "nbformat": 4,
 "nbformat_minor": 5
}
